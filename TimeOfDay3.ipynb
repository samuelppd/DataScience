{
 "cells": [
  {
   "cell_type": "code",
   "execution_count": 1,
   "id": "92787e9f",
   "metadata": {},
   "outputs": [],
   "source": [
    "#Computer Vision Project\n",
    "#The following Question must use a CNN based architecture.\n",
    "\n",
    "#Classification of Time Problem\n",
    "#Determine the time of the day based on the input image"
   ]
  },
  {
   "cell_type": "code",
   "execution_count": null,
   "id": "22dda470",
   "metadata": {},
   "outputs": [],
   "source": []
  },
  {
   "cell_type": "code",
   "execution_count": 2,
   "id": "419bfc72",
   "metadata": {},
   "outputs": [],
   "source": [
    "import os\n",
    "import numpy as np\n",
    "import matplotlib.pyplot as plt\n",
    "import torch\n",
    "import torchvision\n",
    "import torchvision.transforms as transforms\n",
    "from torch.utils.data import DataLoader\n",
    "from torch.utils import tensorboard\n",
    "from sklearn.metrics import confusion_matrix\n",
    "import seaborn as sns\n",
    "\n",
    "import torch.nn as nn\n",
    "from PIL import Image"
   ]
  },
  {
   "cell_type": "code",
   "execution_count": 3,
   "id": "ccf8b1b4",
   "metadata": {},
   "outputs": [],
   "source": [
    "writer = tensorboard.SummaryWriter('runs/experiment_1')"
   ]
  },
  {
   "cell_type": "code",
   "execution_count": 4,
   "id": "dd082886",
   "metadata": {},
   "outputs": [],
   "source": [
    "def preprocess_images(image_folder, batch_size = 625):\n",
    "    # Define transformations to be applied to the images\n",
    "    transform = transforms.Compose([\n",
    "        transforms.Resize((224, 224)),\n",
    "        transforms.ToTensor(),\n",
    "        # Add more transformations if needed\n",
    "    ])\n",
    "\n",
    "    # Create a dataset from the images in the folder using torchvision's ImageFolder\n",
    "    dataset = torchvision.datasets.ImageFolder(root = image_folder, transform = transform)\n",
    "\n",
    "    # Create a DataLoader to handle batching and shuffling of the dataset\n",
    "    dataloader = DataLoader(dataset, batch_size = batch_size, shuffle = True)\n",
    "\n",
    "    return dataloader\n",
    "\n",
    "\n",
    "image_folder_path = 'timeofday'\n",
    "\n",
    "#Define the batch size for the DataLoader\n",
    "batch_size = 625\n",
    "\n",
    "#Preprocess images and create a DataLoader\n",
    "data_loader = preprocess_images(image_folder_path, batch_size = batch_size)\n",
    "\n"
   ]
  },
  {
   "cell_type": "code",
   "execution_count": null,
   "id": "80adeb55",
   "metadata": {},
   "outputs": [],
   "source": []
  },
  {
   "cell_type": "code",
   "execution_count": 5,
   "id": "a55fdd3a",
   "metadata": {},
   "outputs": [],
   "source": [
    "# Create The model\n",
    "\n",
    "import torch.nn as nn\n",
    "import torch.nn.functional as F\n",
    "\n",
    "class timeofday_cnn(nn.Module):\n",
    "    def __init__(self):\n",
    "        super(timeofday_cnn, self).__init__()\n",
    "        \n",
    "        self.conv_1 = nn.Sequential(\n",
    "            nn.Conv2d(\n",
    "                in_channels = 3,\n",
    "                out_channels = 16,\n",
    "                kernel_size = 5,\n",
    "                stride = 1,\n",
    "                padding = 2\n",
    "            ),\n",
    "            nn.ReLU(),\n",
    "            nn.MaxPool2d(kernel_size = 2, stride = 2)\n",
    "        )\n",
    "        self.conv_2 = nn.Sequential(\n",
    "            nn.Conv2d(16,32,5,1,2),\n",
    "            nn.ReLU(),\n",
    "            nn.MaxPool2d(2),\n",
    "        )\n",
    "        self.linear_1 = nn.Linear(32*56*56,256)\n",
    "        self.linear_2 = nn.Linear(256,10)\n",
    "   \n",
    "    def forward(self,x):\n",
    "        x_1 = self.conv_1(x)\n",
    "        x_2 = self.conv_2(x_1)\n",
    "        x_2 = x_2.view(x_2.size(0), -1)\n",
    "        out = self.linear_1(x_2)\n",
    "        \n",
    "        return out, x"
   ]
  },
  {
   "cell_type": "code",
   "execution_count": 6,
   "id": "fe1e270c",
   "metadata": {
    "scrolled": true
   },
   "outputs": [
    {
     "data": {
      "text/plain": [
       "Reusing TensorBoard on port 6006 (pid 6116), started 23:21:26 ago. (Use '!kill 6116' to kill it.)"
      ]
     },
     "metadata": {},
     "output_type": "display_data"
    },
    {
     "data": {
      "text/html": [
       "\n",
       "      <iframe id=\"tensorboard-frame-6bb0c5e0cf8e18fe\" width=\"100%\" height=\"800\" frameborder=\"0\">\n",
       "      </iframe>\n",
       "      <script>\n",
       "        (function() {\n",
       "          const frame = document.getElementById(\"tensorboard-frame-6bb0c5e0cf8e18fe\");\n",
       "          const url = new URL(\"/\", window.location);\n",
       "          const port = 6006;\n",
       "          if (port) {\n",
       "            url.port = port;\n",
       "          }\n",
       "          frame.src = url;\n",
       "        })();\n",
       "      </script>\n",
       "    "
      ],
      "text/plain": [
       "<IPython.core.display.HTML object>"
      ]
     },
     "metadata": {},
     "output_type": "display_data"
    }
   ],
   "source": [
    "%load_ext tensorboard\n",
    "%tensorboard --logdir runs"
   ]
  },
  {
   "cell_type": "code",
   "execution_count": null,
   "id": "1e08c998",
   "metadata": {},
   "outputs": [],
   "source": []
  },
  {
   "cell_type": "code",
   "execution_count": null,
   "id": "4846cff5",
   "metadata": {},
   "outputs": [],
   "source": []
  },
  {
   "cell_type": "code",
   "execution_count": 7,
   "id": "7fcb4e57",
   "metadata": {},
   "outputs": [],
   "source": [
    "# Visualize Data\n",
    "\n",
    "data_sample = iter(data_loader)\n",
    "images, targets = next(data_sample)\n",
    "image_grid = torchvision.utils.make_grid(images)\n",
    "writer.add_image('Sample Time Of Day', image_grid)\n",
    "writer.close()"
   ]
  },
  {
   "cell_type": "code",
   "execution_count": 8,
   "id": "85cd9f15",
   "metadata": {},
   "outputs": [
    {
     "name": "stdout",
     "output_type": "stream",
     "text": [
      "timeofday_cnn(\n",
      "  (conv_1): Sequential(\n",
      "    (0): Conv2d(3, 16, kernel_size=(5, 5), stride=(1, 1), padding=(2, 2))\n",
      "    (1): ReLU()\n",
      "    (2): MaxPool2d(kernel_size=2, stride=2, padding=0, dilation=1, ceil_mode=False)\n",
      "  )\n",
      "  (conv_2): Sequential(\n",
      "    (0): Conv2d(16, 32, kernel_size=(5, 5), stride=(1, 1), padding=(2, 2))\n",
      "    (1): ReLU()\n",
      "    (2): MaxPool2d(kernel_size=2, stride=2, padding=0, dilation=1, ceil_mode=False)\n",
      "  )\n",
      "  (linear_1): Linear(in_features=100352, out_features=256, bias=True)\n",
      "  (linear_2): Linear(in_features=256, out_features=10, bias=True)\n",
      ")\n"
     ]
    }
   ],
   "source": [
    "model = timeofday_cnn()\n",
    "print(model)\n",
    "\n",
    "writer.add_graph(model, images)\n",
    "writer.close()"
   ]
  },
  {
   "cell_type": "code",
   "execution_count": 9,
   "id": "e5d412e0",
   "metadata": {},
   "outputs": [],
   "source": [
    "# Define Loss Function\n",
    "# Define Optimizer\n",
    "loss_func = nn.CrossEntropyLoss()\n",
    "optimizer = torch.optim.SGD(model.parameters(), lr = 0.01)"
   ]
  },
  {
   "cell_type": "code",
   "execution_count": 16,
   "id": "7286bb3a",
   "metadata": {},
   "outputs": [
    {
     "name": "stdout",
     "output_type": "stream",
     "text": [
      "Epoch 1/50, Loss: 1.3425, Accuracy: 79.74%\n",
      "Epoch 2/50, Loss: 0.8553, Accuracy: 80.95%\n",
      "Epoch 3/50, Loss: 0.1986, Accuracy: 92.82%\n",
      "Epoch 4/50, Loss: 0.2547, Accuracy: 90.76%\n",
      "Epoch 5/50, Loss: 0.2144, Accuracy: 92.52%\n",
      "Epoch 6/50, Loss: 0.1606, Accuracy: 94.70%\n",
      "Epoch 7/50, Loss: 0.1720, Accuracy: 93.99%\n",
      "Epoch 8/50, Loss: 0.1496, Accuracy: 94.70%\n",
      "Epoch 9/50, Loss: 0.1358, Accuracy: 96.20%\n",
      "Epoch 10/50, Loss: 0.1211, Accuracy: 96.66%\n",
      "Epoch 11/50, Loss: 0.1061, Accuracy: 97.11%\n",
      "Epoch 12/50, Loss: 0.0916, Accuracy: 97.67%\n",
      "Epoch 13/50, Loss: 0.0865, Accuracy: 98.01%\n",
      "Epoch 14/50, Loss: 0.0737, Accuracy: 98.05%\n",
      "Epoch 15/50, Loss: 0.0649, Accuracy: 98.50%\n",
      "Epoch 16/50, Loss: 0.0595, Accuracy: 98.76%\n",
      "Epoch 17/50, Loss: 0.0531, Accuracy: 98.95%\n",
      "Epoch 18/50, Loss: 0.0532, Accuracy: 98.99%\n",
      "Epoch 19/50, Loss: 0.0458, Accuracy: 98.95%\n",
      "Epoch 20/50, Loss: 0.0412, Accuracy: 99.10%\n",
      "Epoch 21/50, Loss: 0.0337, Accuracy: 99.25%\n",
      "Epoch 22/50, Loss: 0.0370, Accuracy: 99.21%\n",
      "Epoch 23/50, Loss: 0.0334, Accuracy: 99.25%\n",
      "Epoch 24/50, Loss: 0.0275, Accuracy: 99.40%\n",
      "Epoch 25/50, Loss: 0.0284, Accuracy: 99.36%\n",
      "Epoch 26/50, Loss: 0.0306, Accuracy: 99.40%\n",
      "Epoch 27/50, Loss: 0.0238, Accuracy: 99.44%\n",
      "Epoch 28/50, Loss: 0.0247, Accuracy: 99.47%\n",
      "Epoch 29/50, Loss: 0.0217, Accuracy: 99.44%\n",
      "Epoch 30/50, Loss: 0.0216, Accuracy: 99.44%\n",
      "Epoch 31/50, Loss: 0.0220, Accuracy: 99.40%\n",
      "Epoch 32/50, Loss: 0.0195, Accuracy: 99.47%\n",
      "Epoch 33/50, Loss: 0.0200, Accuracy: 99.47%\n",
      "Epoch 34/50, Loss: 0.0206, Accuracy: 99.62%\n",
      "Epoch 35/50, Loss: 0.0219, Accuracy: 99.62%\n",
      "Epoch 36/50, Loss: 0.0195, Accuracy: 99.44%\n",
      "Epoch 37/50, Loss: 0.0208, Accuracy: 99.47%\n",
      "Epoch 38/50, Loss: 0.0156, Accuracy: 99.62%\n",
      "Epoch 39/50, Loss: 0.0156, Accuracy: 99.51%\n",
      "Epoch 40/50, Loss: 0.0122, Accuracy: 99.70%\n",
      "Epoch 41/50, Loss: 0.0123, Accuracy: 99.70%\n",
      "Epoch 42/50, Loss: 0.0122, Accuracy: 99.70%\n",
      "Epoch 43/50, Loss: 0.0123, Accuracy: 99.77%\n",
      "Epoch 44/50, Loss: 0.0135, Accuracy: 99.70%\n",
      "Epoch 45/50, Loss: 0.0114, Accuracy: 99.81%\n",
      "Epoch 46/50, Loss: 0.0110, Accuracy: 99.70%\n",
      "Epoch 47/50, Loss: 0.0116, Accuracy: 99.66%\n",
      "Epoch 48/50, Loss: 0.0092, Accuracy: 99.77%\n",
      "Epoch 49/50, Loss: 0.0085, Accuracy: 99.74%\n",
      "Epoch 50/50, Loss: 0.0094, Accuracy: 99.74%\n"
     ]
    }
   ],
   "source": [
    "# Training loop\n",
    "import torch.optim as optim\n",
    "\n",
    "\n",
    "epochs = 50\n",
    "criterion = nn.CrossEntropyLoss()\n",
    "optimizer = optim.Adam(model.parameters(), lr=0.001)\n",
    "model.train()\n",
    "\n",
    "for e in range(epochs):\n",
    "    \n",
    "    running_loss = 0.0\n",
    "    total = 0\n",
    "    correct = 0\n",
    "    \n",
    "    for batch in data_loader:\n",
    "        images, labels = batch\n",
    "        \n",
    "        optimizer.zero_grad()\n",
    "        outputs = model(images)[0]\n",
    "        loss = criterion(outputs, labels)\n",
    "        loss.backward()\n",
    "        optimizer.step()\n",
    "\n",
    "        running_loss += loss.item()\n",
    "\n",
    "        _, predicted = torch.max(outputs.data, 1)\n",
    "        total += labels.size(0)\n",
    "        correct += (predicted == labels).sum().item()\n",
    "\n",
    "    # Calculate and print average loss and accuracy for the epoch\n",
    "    epoch_loss = running_loss / len(data_loader)\n",
    "    epoch_accuracy = correct / total\n",
    "\n",
    "    print(f'Epoch {e + 1}/{epochs}, Loss: {epoch_loss:.4f}, Accuracy: {epoch_accuracy * 100:.2f}%')"
   ]
  },
  {
   "cell_type": "code",
   "execution_count": 18,
   "id": "d7a12c25",
   "metadata": {},
   "outputs": [
    {
     "data": {
      "image/png": "[encoded data removed]",
      "text/plain": [
       "<Figure size 800x600 with 2 Axes>"
      ]
     },
     "metadata": {},
     "output_type": "display_data"
    }
   ],
   "source": [
    "# Create a confusion matrix\n",
    "cm = confusion_matrix(predicted, labels)\n",
    "\n",
    "# Plot the confusion matrix\n",
    "plt.figure(figsize=(8, 6))\n",
    "sns.heatmap(cm, annot=True, fmt='d', cmap='Blues', xticklabels=['sunrise', 'nighttime', 'daytime'], yticklabels=['sunrise', 'nighttime', 'daytime'])\n",
    "plt.title('Confusion Matrix')\n",
    "plt.xlabel('Predicted')\n",
    "plt.ylabel('Actual')\n",
    "plt.show()"
   ]
  },
  {
   "cell_type": "code",
   "execution_count": 19,
   "id": "701dfdfa",
   "metadata": {},
   "outputs": [
    {
     "name": "stdout",
     "output_type": "stream",
     "text": [
      "Confusion Matrix:\n",
      "[[208   0   0]\n",
      " [  0 183   0]\n",
      " [  0   0 234]]\n",
      "Accuracy of the network on the test images: 100.00%\n",
      "\n",
      "Confusion Matrix:\n",
      "[[209   0   1]\n",
      " [  0 187   0]\n",
      " [  0   0 228]]\n",
      "Accuracy of the network on the test images: 99.84%\n",
      "\n",
      "Confusion Matrix:\n",
      "[[217   0   0]\n",
      " [  0 177   0]\n",
      " [  0   0 231]]\n",
      "Accuracy of the network on the test images: 100.00%\n",
      "\n",
      "Confusion Matrix:\n",
      "[[230   0   0]\n",
      " [  2 167   0]\n",
      " [  0   1 225]]\n",
      "Accuracy of the network on the test images: 99.52%\n",
      "\n",
      "Confusion Matrix:\n",
      "[[54  1  0]\n",
      " [ 0 40  0]\n",
      " [ 0  0 66]]\n",
      "Accuracy of the network on the test images: 99.38%\n",
      "\n",
      "The mean accuracy is: 99.75%\n"
     ]
    }
   ],
   "source": [
    "model.eval()\n",
    "mean = 0\n",
    "i=0\n",
    "for images, labels in data_loader:\n",
    "    predictions = model(images)[0]\n",
    "    pred_y = torch.max(predictions, 1)[1].data.squeeze()\n",
    "    accuracy = (pred_y == labels).sum().item() / float(labels.size(0))\n",
    "    mean += accuracy\n",
    "    i +=1\n",
    "    \n",
    "    conf_matrix = confusion_matrix(pred_y, labels)\n",
    "    print(\"Confusion Matrix:\")\n",
    "    print(conf_matrix)\n",
    "    print(f'Accuracy of the network on the test images: {accuracy * 100 :.2f}%\\n')\n",
    "print(f\"The mean accuracy is: {mean/i * 100 :.2f}%\")"
   ]
  },
  {
   "cell_type": "code",
   "execution_count": 20,
   "id": "ee60e356",
   "metadata": {},
   "outputs": [
    {
     "name": "stdout",
     "output_type": "stream",
     "text": [
      "<bound method Module.state_dict of timeofday_cnn(\n",
      "  (conv_1): Sequential(\n",
      "    (0): Conv2d(3, 16, kernel_size=(5, 5), stride=(1, 1), padding=(2, 2))\n",
      "    (1): ReLU()\n",
      "    (2): MaxPool2d(kernel_size=2, stride=2, padding=0, dilation=1, ceil_mode=False)\n",
      "  )\n",
      "  (conv_2): Sequential(\n",
      "    (0): Conv2d(16, 32, kernel_size=(5, 5), stride=(1, 1), padding=(2, 2))\n",
      "    (1): ReLU()\n",
      "    (2): MaxPool2d(kernel_size=2, stride=2, padding=0, dilation=1, ceil_mode=False)\n",
      "  )\n",
      "  (linear_1): Linear(in_features=100352, out_features=256, bias=True)\n",
      "  (linear_2): Linear(in_features=256, out_features=10, bias=True)\n",
      ")>\n"
     ]
    }
   ],
   "source": [
    "save_dir = 'runs/'\n",
    "model_name = 'experiment_2.pt'\n",
    "\n",
    "torch.save(model.state_dict, save_dir+model_name)\n",
    "\n",
    "model_weights = torch.load('runs/experiment_2.pt')\n",
    "print(model_weights)"
   ]
  },
  {
   "cell_type": "code",
   "execution_count": null,
   "id": "6adbfbb2",
   "metadata": {},
   "outputs": [],
   "source": []
  }
 ],
 "metadata": {
  "kernelspec": {
   "display_name": "Python 3 (ipykernel)",
   "language": "python",
   "name": "python3"
  },
  "language_info": {
   "codemirror_mode": {
    "name": "ipython",
    "version": 3
   },
   "file_extension": ".py",
   "mimetype": "text/x-python",
   "name": "python",
   "nbconvert_exporter": "python",
   "pygments_lexer": "ipython3",
   "version": "3.11.4"
  }
 },
 "nbformat": 4,
 "nbformat_minor": 5
}
